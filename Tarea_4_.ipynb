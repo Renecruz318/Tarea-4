{
  "nbformat": 4,
  "nbformat_minor": 0,
  "metadata": {
    "colab": {
      "name": "Tarea 4 .ipynb",
      "provenance": [],
      "authorship_tag": "ABX9TyOOlzCzAJYN1iClLkh8kDOq",
      "include_colab_link": true
    },
    "kernelspec": {
      "name": "python3",
      "display_name": "Python 3"
    },
    "language_info": {
      "name": "python"
    }
  },
  "cells": [
    {
      "cell_type": "markdown",
      "metadata": {
        "id": "view-in-github",
        "colab_type": "text"
      },
      "source": [
        "<a href=\"https://colab.research.google.com/github/Renecruz318/Tarea-4/blob/main/Tarea_4_.ipynb\" target=\"_parent\"><img src=\"https://colab.research.google.com/assets/colab-badge.svg\" alt=\"Open In Colab\"/></a>"
      ]
    },
    {
      "cell_type": "code",
      "metadata": {
        "colab": {
          "base_uri": "https://localhost:8080/"
        },
        "id": "rAJ2WrrD9g5i",
        "outputId": "1cf3d83b-ea48-4fd4-ed4b-a39e9f6bd428"
      },
      "source": [
        "print(\"Programa de la Formula General (Chicharronera)\")\n",
        "a = float(input(\"Introduce el valor de a: \"))\n",
        "b = float(input(\"Introduce el valor de b: \"))\n",
        "c = float(input(\"Introduce el valor de c: \"))\n",
        "x1= (-b+(((b**2)-(4*a*c))**0.5))/(2*a)\n",
        "x2= (-b-(((b**2)-(4*a*c))**0.5))/(2*a)\n",
        "print(\"El valor de x1 es: \")\n",
        "print(x1)\n",
        "print(\"El valor de x2 es: \")\n",
        "print(x2)"
      ],
      "execution_count": 9,
      "outputs": [
        {
          "output_type": "stream",
          "name": "stdout",
          "text": [
            "Programa de la Formula General (Chicharronera)\n",
            "Introduce el valor de a: 8\n",
            "Introduce el valor de b: 9\n",
            "Introduce el valor de c: -10\n",
            "El valor de x1 es: \n",
            "0.6890615246562992\n",
            "El valor de x2 es: \n",
            "-1.8140615246562992\n"
          ]
        }
      ]
    }
  ]
}